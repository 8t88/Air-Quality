{
 "cells": [
  {
   "cell_type": "code",
   "execution_count": 1,
   "id": "7727419f-d948-4612-9223-228d87b77a26",
   "metadata": {},
   "outputs": [],
   "source": [
    "import sys\n",
    "import json\n",
    "import requests\n",
    "\n",
    "def get_api_data(api_key, start_dt_hr, end_dt_hr):\n",
    "    eia_url = 'https://api.eia.gov/v2/electricity/rto/region-sub-ba-data/data/'\n",
    "    subset_request = {\n",
    "        'api_key': api_key,\n",
    "        'frequency': 'hourly',\n",
    "        'data[0]': 'value',\n",
    "        'facets[subba][]': 'PGAE',\n",
    "        'facets[subba][]': 'SCE',\n",
    "        'start': start_dt_hr,\n",
    "        'end': end_dt_hr,\n",
    "        'sort[0][column]': 'period',\n",
    "        'sort[0][direction]': 'desc',\n",
    "        'offset': 0,\n",
    "        'length': 5000\n",
    "    }\n",
    "\n",
    "    resp = requests.get(eia_url, params=subset_request)\n",
    "    \n",
    "    return resp.json()\n",
    "\n",
    "def parse_electricity_data(json_data):\n",
    "    electricity_pd_df = pd.DataFrame(json_data['response']['data'])\\\n",
    "                        .rename(columns={'period': 'date_hr', \n",
    "                                         'subba-name': 'subregion_name', \n",
    "                                         'subba':'subregion_abbrv', \n",
    "                                         'parent': 'parent_abbrv', \n",
    "                                         'parent-name': 'parent_name', \n",
    "                                         'value': 'megawatthours'})\n",
    "    return electricity_pd_df\n"
   ]
  },
  {
   "cell_type": "code",
   "execution_count": 2,
   "id": "eb9119c4-e713-4022-971a-6f2b13effef5",
   "metadata": {},
   "outputs": [
    {
     "name": "stdout",
     "output_type": "stream",
     "text": [
      "fetching data from week of 2025-01-01T00\n",
      "fetching data from week of 2025-01-08T00\n",
      "fetching data from week of 2025-01-15T00\n",
      "fetching data from week of 2025-01-22T00\n",
      "fetching data from week of 2025-01-29T00\n",
      "fetching data from week of 2025-02-05T00\n",
      "fetching data from week of 2025-02-12T00\n"
     ]
    }
   ],
   "source": [
    "from datetime import datetime\n",
    "from dateutil.relativedelta import relativedelta\n",
    "import time\n",
    "import pandas as pd\n",
    "\n",
    "api_key = open(\"./api_key.txt\", \"r\").read()\n",
    "pull_start = datetime(2025, 1, 1)\n",
    "#pull_end = datetime(2025, 1, 19)\n",
    "pull_end = datetime(2025, 2, 19)\n",
    "\n",
    "pd_arr = []\n",
    "\n",
    "while pull_start < pull_end:\n",
    "    start_dt_hr = pull_start.strftime(\"%Y-%m-%dT00\")\n",
    "    end_dt_hr = (pull_start+relativedelta(weeks=1)-relativedelta(days=1)).strftime(\"%Y-%m-%dT23\")\n",
    "    print(\"fetching data from week of \"+start_dt_hr)\n",
    "    api_data = get_api_data(api_key, start_dt_hr, end_dt_hr)\n",
    "    pd_df = parse_electricity_data(api_data)\n",
    "    pd_arr.append(pd_df)\n",
    "    pull_start+=relativedelta(weeks=1)\n",
    "    time.sleep(30)#pause for 30 seconds\n",
    "\n",
    "full_electricity_df = pd.concat(pd_arr)"
   ]
  },
  {
   "cell_type": "code",
   "execution_count": 3,
   "id": "0248c4df-0647-4b27-a120-5c169ebe40ff",
   "metadata": {},
   "outputs": [],
   "source": [
    "full_electricity_df.to_pickle(\"cal_electricity_mwh.pickle\")"
   ]
  },
  {
   "cell_type": "code",
   "execution_count": null,
   "id": "da65428c-5786-4249-aedc-860b3b012b36",
   "metadata": {},
   "outputs": [],
   "source": []
  }
 ],
 "metadata": {
  "kernelspec": {
   "display_name": "Python [conda env:forecast] *",
   "language": "python",
   "name": "conda-env-forecast-py"
  },
  "language_info": {
   "codemirror_mode": {
    "name": "ipython",
    "version": 3
   },
   "file_extension": ".py",
   "mimetype": "text/x-python",
   "name": "python",
   "nbconvert_exporter": "python",
   "pygments_lexer": "ipython3",
   "version": "3.10.16"
  }
 },
 "nbformat": 4,
 "nbformat_minor": 5
}
