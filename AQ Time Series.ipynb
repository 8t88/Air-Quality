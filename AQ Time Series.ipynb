{
 "cells": [
  {
   "cell_type": "code",
   "execution_count": null,
   "id": "fec23036-3e97-46cc-8818-6c39d52d2276",
   "metadata": {},
   "outputs": [],
   "source": [
    "from netCDF4 import Dataset\n",
    "\n",
    "import numpy as np\n",
    "import xarray as xr\n",
    "import pandas as pd\n",
    "from matplotlib import pyplot\n",
    "\n",
    "#data loaded and saved in EDA.ipynb\n",
    "aq_monthly_df = xr.open_dataset(\"./data/aq_monthly_data.nc\")\n",
    "\n",
    "#df to pandas?\n",
    "aq_monthly_df['pm25'].toPandas()"
   ]
  },
  {
   "cell_type": "code",
   "execution_count": null,
   "id": "9e45c489-04a0-45e8-aa1c-a6744bca4f21",
   "metadata": {},
   "outputs": [],
   "source": [
    "#time series analysis of air quality throughout year\n",
    "#arima model, predict next values\n",
    "from statsmodels.tsa.arima.model import ARIMA\n",
    "from statsmodels.tsa.seasonal import seasonal_decompose \n",
    "from pandas.plotting import autocorrelation_plot\n",
    "\n",
    "# ETS Decomposition \n",
    "sd = seasonal_decompose(data,  \n",
    "                            model ='multiplicative') \n",
    "  \n",
    "# ETS plot  \n",
    "sd.plot() "
   ]
  },
  {
   "cell_type": "code",
   "execution_count": null,
   "id": "13910e51-3701-45b7-bbf1-7a15379731c7",
   "metadata": {},
   "outputs": [],
   "source": [
    "from statsmodels.graphics.tsaplots import plot_acf, plot_pacf\n",
    "plot_acf(data, lags=40)\n",
    "plot_pacf(data, lags=40)\n",
    "plt.show()"
   ]
  },
  {
   "cell_type": "code",
   "execution_count": null,
   "id": "7cab728d-f190-491a-9004-d5f774c613c4",
   "metadata": {},
   "outputs": [],
   "source": [
    "autocorrelation_plot(series)\n",
    "pyplot.show()"
   ]
  },
  {
   "cell_type": "code",
   "execution_count": null,
   "id": "2d08d8ea-d099-48dc-847d-743329a85777",
   "metadata": {},
   "outputs": [],
   "source": [
    "#add in features for prediction\n",
    "\n",
    "model = ARIMA(series, order=(12,1,0))\n",
    "model_fit = model.fit()\n",
    "# summary of fit model\n",
    "print(model_fit.summary())"
   ]
  },
  {
   "cell_type": "code",
   "execution_count": null,
   "id": "910118bd-88fa-4537-89df-0d1038914962",
   "metadata": {},
   "outputs": [],
   "source": [
    "# line plot of residuals\n",
    "residuals = DataFrame(model_fit.resid)\n",
    "residuals.plot()\n",
    "pyplot.show()"
   ]
  },
  {
   "cell_type": "code",
   "execution_count": null,
   "id": "ddcf007c-8390-47d4-8299-a26343751f1a",
   "metadata": {},
   "outputs": [],
   "source": [
    "# density plot of residuals\n",
    "residuals.plot(kind='kde')\n",
    "pyplot.show()\n"
   ]
  },
  {
   "cell_type": "code",
   "execution_count": null,
   "id": "2c3a8bd8-1010-4bdc-a172-80f8a62b8fcd",
   "metadata": {},
   "outputs": [],
   "source": [
    "# summary stats of residuals\n",
    "print(residuals.describe())"
   ]
  }
 ],
 "metadata": {
  "kernelspec": {
   "display_name": "Python 3 (ipykernel)",
   "language": "python",
   "name": "python3"
  },
  "language_info": {
   "codemirror_mode": {
    "name": "ipython",
    "version": 3
   },
   "file_extension": ".py",
   "mimetype": "text/x-python",
   "name": "python",
   "nbconvert_exporter": "python",
   "pygments_lexer": "ipython3",
   "version": "3.8.12"
  }
 },
 "nbformat": 4,
 "nbformat_minor": 5
}
